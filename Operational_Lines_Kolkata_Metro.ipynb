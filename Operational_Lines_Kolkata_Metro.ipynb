{
  "nbformat": 4,
  "nbformat_minor": 0,
  "metadata": {
    "colab": {
      "provenance": []
    },
    "kernelspec": {
      "name": "python3",
      "display_name": "Python 3"
    },
    "language_info": {
      "name": "python"
    }
  },
  "cells": [
    {
      "cell_type": "code",
      "execution_count": 5,
      "metadata": {
        "colab": {
          "base_uri": "https://localhost:8080/"
        },
        "id": "cxCPwV8kz9UZ",
        "outputId": "222bcd5b-a5f3-4d54-f56c-a8e3ca0fedf5"
      },
      "outputs": [
        {
          "output_type": "stream",
          "name": "stdout",
          "text": [
            "('Howrah Maidan', 0)->[('Howrah Railway Station', 1)]\n",
            "('Howrah Railway Station', 1)->[('Howrah Maidan', 0), ('Mahakaran', 2)]\n",
            "('Mahakaran', 2)->[('Howrah Railway Station', 1), ('Esplanade', 3)]\n",
            "('Esplanade', 3)->[('Mahakaran', 2), ('Sealdah', 4)]\n",
            "('Sealdah', 4)->[('Esplanade', 3), ('Phoolbagan', 5)]\n",
            "('Phoolbagan', 5)->[('Sealdah', 4), ('Salt Lake Stadium', 6)]\n",
            "('Salt Lake Stadium', 6)->[('Phoolbagan', 5), ('Bengal Chemical', 7)]\n",
            "('Bengal Chemical', 7)->[('Salt Lake Stadium', 6), ('City Centre', 8)]\n",
            "('City Centre', 8)->[('Bengal Chemical', 7), ('Central Park', 9)]\n",
            "('Central Park', 9)->[('City Centre', 8), ('Salt Lake Sector V', 10)]\n",
            "('Salt Lake Sector V', 10)->[('Central Park', 9)]\n"
          ]
        }
      ],
      "source": [
        "from collections import defaultdict as dd\n",
        "\n",
        "green_line=[(\"Howrah Maidan\",0),(\"Howrah Railway Station\",1),(\"Mahakaran\",2),(\"Esplanade\",3),(\"Sealdah\",4),\n",
        "(\"Phoolbagan\",5), (\"Salt Lake Stadium\",6),(\"Bengal Chemical\",7),(\"City Centre\",8),(\"Central Park\",9),\n",
        "(\"Salt Lake Sector V\",10)]\n",
        "\n",
        "adj_list=dd(list)\n",
        "for i in range(len(green_line)-1):\n",
        "    stn1=green_line[i]\n",
        "    stn2=green_line[i+1]\n",
        "    adj_list[stn1].append(stn2)\n",
        "    adj_list[stn2].append(stn1)\n",
        "\n",
        "for i,j in adj_list.items():\n",
        "    print(f\"{i}->{j}\")\n"
      ]
    },
    {
      "cell_type": "code",
      "source": [
        "from collections import defaultdict as dd\n",
        "\n",
        "blue_line=[(\"Dakshineshwar\",11),(\"Baranagar\",12),(\"Noapara\",13),(\"Dum Dum\",14),(\"Belgachhia\",15),(\"Shyambazar\",16),\n",
        "(\"Sovabazar Sutanuti\",17),(\"Girish Park\",18),(\"Mahatma Gandhi Road\",19),(\"Central\",20),(\"Chandni Chowk\",21),\n",
        "(\"Esplanade\",3),(\"Park Street\",22),(\"Maidan\",23),(\"Rabindra Sadan\",24),(\"Netaji Bhavan\",25),(\"Jatin Das Park\",26),\n",
        "(\"Kalighat\",27),(\"Rabindra Sarovar\",28),(\"Mahanayak Uttam Kumar\",29),(\"Netaji\",30),(\"Masterda Surya Sen\",31),\n",
        "(\"Gitanjali\",32),(\"Kavi Nazrul\",33),(\"Shahid Khudiram\",34),(\"Kavi Subhas\",35)]\n",
        "\n",
        "for i in range(len(blue_line)-1):\n",
        "    stn1=blue_line[i]\n",
        "    stn2=blue_line[i+1]\n",
        "    adj_list[stn1].append(stn2)\n",
        "    adj_list[stn2].append(stn1)\n",
        "\n",
        "for i,j in adj_list.items():\n",
        "    print(f\"{i}->{j}\")"
      ],
      "metadata": {
        "colab": {
          "base_uri": "https://localhost:8080/"
        },
        "id": "eBDDN_836VO3",
        "outputId": "7b9b8093-0d19-405e-ccc3-758720202227"
      },
      "execution_count": 8,
      "outputs": [
        {
          "output_type": "stream",
          "name": "stdout",
          "text": [
            "('Howrah Maidan', 0)->[('Howrah Railway Station', 1)]\n",
            "('Howrah Railway Station', 1)->[('Howrah Maidan', 0), ('Mahakaran', 2)]\n",
            "('Mahakaran', 2)->[('Howrah Railway Station', 1), ('Esplanade', 3)]\n",
            "('Esplanade', 3)->[('Mahakaran', 2), ('Sealdah', 4), ('Chandni Chowk', 21), ('Park Street', 22)]\n",
            "('Sealdah', 4)->[('Esplanade', 3), ('Phoolbagan', 5)]\n",
            "('Phoolbagan', 5)->[('Sealdah', 4), ('Salt Lake Stadium', 6)]\n",
            "('Salt Lake Stadium', 6)->[('Phoolbagan', 5), ('Bengal Chemical', 7)]\n",
            "('Bengal Chemical', 7)->[('Salt Lake Stadium', 6), ('City Centre', 8)]\n",
            "('City Centre', 8)->[('Bengal Chemical', 7), ('Central Park', 9)]\n",
            "('Central Park', 9)->[('City Centre', 8), ('Salt Lake Sector V', 10)]\n",
            "('Salt Lake Sector V', 10)->[('Central Park', 9)]\n",
            "('Dakshineshwar', 11)->[('Baranagar', 12)]\n",
            "('Baranagar', 12)->[('Dakshineshwar', 11), ('Noapara', 13)]\n",
            "('Noapara', 13)->[('Baranagar', 12), ('Dum Dum', 14)]\n",
            "('Dum Dum', 14)->[('Noapara', 13), ('Belgachhia', 15)]\n",
            "('Belgachhia', 15)->[('Dum Dum', 14), ('Shyambazar', 16)]\n",
            "('Shyambazar', 16)->[('Belgachhia', 15), ('Sovabazar Sutanuti', 17)]\n",
            "('Sovabazar Sutanuti', 17)->[('Shyambazar', 16), ('Girish Park', 18)]\n",
            "('Girish Park', 18)->[('Sovabazar Sutanuti', 17), ('Mahatma Gandhi Road', 19)]\n",
            "('Mahatma Gandhi Road', 19)->[('Girish Park', 18), ('Central', 20)]\n",
            "('Central', 20)->[('Mahatma Gandhi Road', 19), ('Chandni Chowk', 21)]\n",
            "('Chandni Chowk', 21)->[('Central', 20), ('Esplanade', 3)]\n",
            "('Park Street', 22)->[('Esplanade', 3), ('Maidan', 23)]\n",
            "('Maidan', 23)->[('Park Street', 22), ('Rabindra Sadan', 24)]\n",
            "('Rabindra Sadan', 24)->[('Maidan', 23), ('Netaji Bhavan', 25)]\n",
            "('Netaji Bhavan', 25)->[('Rabindra Sadan', 24), ('Jatin Das Park', 26)]\n",
            "('Jatin Das Park', 26)->[('Netaji Bhavan', 25), ('Kalighat', 27)]\n",
            "('Kalighat', 27)->[('Jatin Das Park', 26), ('Rabindra Sarovar', 28)]\n",
            "('Rabindra Sarovar', 28)->[('Kalighat', 27), ('Mahanayak Uttam Kumar', 29)]\n",
            "('Mahanayak Uttam Kumar', 29)->[('Rabindra Sarovar', 28), ('Netaji', 30)]\n",
            "('Netaji', 30)->[('Mahanayak Uttam Kumar', 29), ('Masterda Surya Sen', 31)]\n",
            "('Masterda Surya Sen', 31)->[('Netaji', 30), ('Gitanjali', 32)]\n",
            "('Gitanjali', 32)->[('Masterda Surya Sen', 31), ('Kavi Nazrul', 33)]\n",
            "('Kavi Nazrul', 33)->[('Gitanjali', 32), ('Shahid Khudiram', 34)]\n",
            "('Shahid Khudiram', 34)->[('Kavi Nazrul', 33), ('Kavi Subhas', 35)]\n",
            "('Kavi Subhas', 35)->[('Shahid Khudiram', 34)]\n"
          ]
        }
      ]
    },
    {
      "cell_type": "code",
      "source": [
        "from collections import defaultdict as dd\n",
        "\n",
        "purple_line=[(\"Joka\",36),(\"Thakurpukur\",37),(\"Sakherbazar\",38),(\"Behala Chowrasta\",39),(\"Behala Bazar\",40),(\"Taratala\",41),\n",
        "(\"Majerhat\",42)]\n",
        "\n",
        "for i in range(len(purple_line)-1):\n",
        "    stn1=purple_line[i]\n",
        "    stn2=purple_line[i+1]\n",
        "    adj_list[stn1].append(stn2)\n",
        "    adj_list[stn2].append(stn1)\n",
        "\n",
        "for i,j in adj_list.items():\n",
        "    print(f\"{i}->{j}\")"
      ],
      "metadata": {
        "colab": {
          "base_uri": "https://localhost:8080/"
        },
        "id": "vqtK3_Ul9y7S",
        "outputId": "98191b3b-06b1-4374-f447-75c30d1e26da"
      },
      "execution_count": 9,
      "outputs": [
        {
          "output_type": "stream",
          "name": "stdout",
          "text": [
            "('Howrah Maidan', 0)->[('Howrah Railway Station', 1)]\n",
            "('Howrah Railway Station', 1)->[('Howrah Maidan', 0), ('Mahakaran', 2)]\n",
            "('Mahakaran', 2)->[('Howrah Railway Station', 1), ('Esplanade', 3)]\n",
            "('Esplanade', 3)->[('Mahakaran', 2), ('Sealdah', 4), ('Chandni Chowk', 21), ('Park Street', 22)]\n",
            "('Sealdah', 4)->[('Esplanade', 3), ('Phoolbagan', 5)]\n",
            "('Phoolbagan', 5)->[('Sealdah', 4), ('Salt Lake Stadium', 6)]\n",
            "('Salt Lake Stadium', 6)->[('Phoolbagan', 5), ('Bengal Chemical', 7)]\n",
            "('Bengal Chemical', 7)->[('Salt Lake Stadium', 6), ('City Centre', 8)]\n",
            "('City Centre', 8)->[('Bengal Chemical', 7), ('Central Park', 9)]\n",
            "('Central Park', 9)->[('City Centre', 8), ('Salt Lake Sector V', 10)]\n",
            "('Salt Lake Sector V', 10)->[('Central Park', 9)]\n",
            "('Dakshineshwar', 11)->[('Baranagar', 12)]\n",
            "('Baranagar', 12)->[('Dakshineshwar', 11), ('Noapara', 13)]\n",
            "('Noapara', 13)->[('Baranagar', 12), ('Dum Dum', 14)]\n",
            "('Dum Dum', 14)->[('Noapara', 13), ('Belgachhia', 15)]\n",
            "('Belgachhia', 15)->[('Dum Dum', 14), ('Shyambazar', 16)]\n",
            "('Shyambazar', 16)->[('Belgachhia', 15), ('Sovabazar Sutanuti', 17)]\n",
            "('Sovabazar Sutanuti', 17)->[('Shyambazar', 16), ('Girish Park', 18)]\n",
            "('Girish Park', 18)->[('Sovabazar Sutanuti', 17), ('Mahatma Gandhi Road', 19)]\n",
            "('Mahatma Gandhi Road', 19)->[('Girish Park', 18), ('Central', 20)]\n",
            "('Central', 20)->[('Mahatma Gandhi Road', 19), ('Chandni Chowk', 21)]\n",
            "('Chandni Chowk', 21)->[('Central', 20), ('Esplanade', 3)]\n",
            "('Park Street', 22)->[('Esplanade', 3), ('Maidan', 23)]\n",
            "('Maidan', 23)->[('Park Street', 22), ('Rabindra Sadan', 24)]\n",
            "('Rabindra Sadan', 24)->[('Maidan', 23), ('Netaji Bhavan', 25)]\n",
            "('Netaji Bhavan', 25)->[('Rabindra Sadan', 24), ('Jatin Das Park', 26)]\n",
            "('Jatin Das Park', 26)->[('Netaji Bhavan', 25), ('Kalighat', 27)]\n",
            "('Kalighat', 27)->[('Jatin Das Park', 26), ('Rabindra Sarovar', 28)]\n",
            "('Rabindra Sarovar', 28)->[('Kalighat', 27), ('Mahanayak Uttam Kumar', 29)]\n",
            "('Mahanayak Uttam Kumar', 29)->[('Rabindra Sarovar', 28), ('Netaji', 30)]\n",
            "('Netaji', 30)->[('Mahanayak Uttam Kumar', 29), ('Masterda Surya Sen', 31)]\n",
            "('Masterda Surya Sen', 31)->[('Netaji', 30), ('Gitanjali', 32)]\n",
            "('Gitanjali', 32)->[('Masterda Surya Sen', 31), ('Kavi Nazrul', 33)]\n",
            "('Kavi Nazrul', 33)->[('Gitanjali', 32), ('Shahid Khudiram', 34)]\n",
            "('Shahid Khudiram', 34)->[('Kavi Nazrul', 33), ('Kavi Subhas', 35)]\n",
            "('Kavi Subhas', 35)->[('Shahid Khudiram', 34)]\n",
            "('Joka', 36)->[('Thakurpukur', 37)]\n",
            "('Thakurpukur', 37)->[('Joka', 36), ('Sakherbazar', 38)]\n",
            "('Sakherbazar', 38)->[('Thakurpukur', 37), ('Behala Chowrasta', 39)]\n",
            "('Behala Chowrasta', 39)->[('Sakherbazar', 38), ('Behala Bazar', 40)]\n",
            "('Behala Bazar', 40)->[('Behala Chowrasta', 39), ('Taratala', 41)]\n",
            "('Taratala', 41)->[('Behala Bazar', 40), ('Majerhat', 42)]\n",
            "('Majerhat', 42)->[('Taratala', 41)]\n"
          ]
        }
      ]
    },
    {
      "cell_type": "code",
      "source": [
        "from collections import defaultdict as dd\n",
        "\n",
        "orange_line=[(\"Kavi Subhas\",35),(\"Satyajit Ray\",43),(\"Jyotirindra Nath Nandy\",44),(\"Kavi Sukanta\",45),\n",
        "(\"Hemanta Mukherjee\",46)]\n",
        "\n",
        "for i in range(len(orange_line)-1):\n",
        "    stn1=orange_line[i]\n",
        "    stn2=orange_line[i+1]\n",
        "    adj_list[stn1].append(stn2)\n",
        "    adj_list[stn2].append(stn1)\n",
        "\n",
        "for i,j in adj_list.items():\n",
        "    print(f\"{i}->{j}\")"
      ],
      "metadata": {
        "colab": {
          "base_uri": "https://localhost:8080/"
        },
        "id": "ZF8x-LH6BgBp",
        "outputId": "86bd6e75-f3c6-4ef8-974c-9a5040be4fe2"
      },
      "execution_count": 10,
      "outputs": [
        {
          "output_type": "stream",
          "name": "stdout",
          "text": [
            "('Howrah Maidan', 0)->[('Howrah Railway Station', 1)]\n",
            "('Howrah Railway Station', 1)->[('Howrah Maidan', 0), ('Mahakaran', 2)]\n",
            "('Mahakaran', 2)->[('Howrah Railway Station', 1), ('Esplanade', 3)]\n",
            "('Esplanade', 3)->[('Mahakaran', 2), ('Sealdah', 4), ('Chandni Chowk', 21), ('Park Street', 22)]\n",
            "('Sealdah', 4)->[('Esplanade', 3), ('Phoolbagan', 5)]\n",
            "('Phoolbagan', 5)->[('Sealdah', 4), ('Salt Lake Stadium', 6)]\n",
            "('Salt Lake Stadium', 6)->[('Phoolbagan', 5), ('Bengal Chemical', 7)]\n",
            "('Bengal Chemical', 7)->[('Salt Lake Stadium', 6), ('City Centre', 8)]\n",
            "('City Centre', 8)->[('Bengal Chemical', 7), ('Central Park', 9)]\n",
            "('Central Park', 9)->[('City Centre', 8), ('Salt Lake Sector V', 10)]\n",
            "('Salt Lake Sector V', 10)->[('Central Park', 9)]\n",
            "('Dakshineshwar', 11)->[('Baranagar', 12)]\n",
            "('Baranagar', 12)->[('Dakshineshwar', 11), ('Noapara', 13)]\n",
            "('Noapara', 13)->[('Baranagar', 12), ('Dum Dum', 14)]\n",
            "('Dum Dum', 14)->[('Noapara', 13), ('Belgachhia', 15)]\n",
            "('Belgachhia', 15)->[('Dum Dum', 14), ('Shyambazar', 16)]\n",
            "('Shyambazar', 16)->[('Belgachhia', 15), ('Sovabazar Sutanuti', 17)]\n",
            "('Sovabazar Sutanuti', 17)->[('Shyambazar', 16), ('Girish Park', 18)]\n",
            "('Girish Park', 18)->[('Sovabazar Sutanuti', 17), ('Mahatma Gandhi Road', 19)]\n",
            "('Mahatma Gandhi Road', 19)->[('Girish Park', 18), ('Central', 20)]\n",
            "('Central', 20)->[('Mahatma Gandhi Road', 19), ('Chandni Chowk', 21)]\n",
            "('Chandni Chowk', 21)->[('Central', 20), ('Esplanade', 3)]\n",
            "('Park Street', 22)->[('Esplanade', 3), ('Maidan', 23)]\n",
            "('Maidan', 23)->[('Park Street', 22), ('Rabindra Sadan', 24)]\n",
            "('Rabindra Sadan', 24)->[('Maidan', 23), ('Netaji Bhavan', 25)]\n",
            "('Netaji Bhavan', 25)->[('Rabindra Sadan', 24), ('Jatin Das Park', 26)]\n",
            "('Jatin Das Park', 26)->[('Netaji Bhavan', 25), ('Kalighat', 27)]\n",
            "('Kalighat', 27)->[('Jatin Das Park', 26), ('Rabindra Sarovar', 28)]\n",
            "('Rabindra Sarovar', 28)->[('Kalighat', 27), ('Mahanayak Uttam Kumar', 29)]\n",
            "('Mahanayak Uttam Kumar', 29)->[('Rabindra Sarovar', 28), ('Netaji', 30)]\n",
            "('Netaji', 30)->[('Mahanayak Uttam Kumar', 29), ('Masterda Surya Sen', 31)]\n",
            "('Masterda Surya Sen', 31)->[('Netaji', 30), ('Gitanjali', 32)]\n",
            "('Gitanjali', 32)->[('Masterda Surya Sen', 31), ('Kavi Nazrul', 33)]\n",
            "('Kavi Nazrul', 33)->[('Gitanjali', 32), ('Shahid Khudiram', 34)]\n",
            "('Shahid Khudiram', 34)->[('Kavi Nazrul', 33), ('Kavi Subhas', 35)]\n",
            "('Kavi Subhas', 35)->[('Shahid Khudiram', 34), ('Satyajit Ray', 43)]\n",
            "('Joka', 36)->[('Thakurpukur', 37)]\n",
            "('Thakurpukur', 37)->[('Joka', 36), ('Sakherbazar', 38)]\n",
            "('Sakherbazar', 38)->[('Thakurpukur', 37), ('Behala Chowrasta', 39)]\n",
            "('Behala Chowrasta', 39)->[('Sakherbazar', 38), ('Behala Bazar', 40)]\n",
            "('Behala Bazar', 40)->[('Behala Chowrasta', 39), ('Taratala', 41)]\n",
            "('Taratala', 41)->[('Behala Bazar', 40), ('Majerhat', 42)]\n",
            "('Majerhat', 42)->[('Taratala', 41)]\n",
            "('Satyajit Ray', 43)->[('Kavi Subhas', 35), ('Jyotirindra Nath Nandy', 44)]\n",
            "('Jyotirindra Nath Nandy', 44)->[('Satyajit Ray', 43), ('Kavi Sukanta', 45)]\n",
            "('Kavi Sukanta', 45)->[('Jyotirindra Nath Nandy', 44), ('Hemanta Mukherjee', 46)]\n",
            "('Hemanta Mukherjee', 46)->[('Kavi Sukanta', 45)]\n"
          ]
        }
      ]
    }
  ]
}